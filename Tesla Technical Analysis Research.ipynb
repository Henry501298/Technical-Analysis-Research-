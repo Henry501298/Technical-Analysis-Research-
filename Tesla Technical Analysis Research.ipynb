{
 "cells": [
  {
   "cell_type": "markdown",
   "metadata": {},
   "source": [
    "# Tesla Technical Analysis Reseach\n",
    "is a trading discipline employed to evaluate investments and identify trading opportunities in price trends and patterns seen on charts. Technical analysts believe past trading activity and price changes of a security can be valuable indicators of the security's future price movements\n",
    "\n",
    "##### Disclosure: Technical should not be taken as a recommendation to buy or sell any security, this is not financial advise. This is purely perspective research only, using computational finance trading strategies for stock performances throughout different time series.  Statistical data within this case study are thoroughly researched and believed to be accurate using Yahoo Finance data package. However, discrepancies can occur with the data provided.  As an investor you should conduct your own research and recheck  for any missing data before making any final decisions regarding buying or selling any stocks. Past performances of stocks mentioned in this portfolio are not a guarantee of future performances. "
   ]
  },
  {
   "cell_type": "code",
   "execution_count": 1,
   "metadata": {},
   "outputs": [],
   "source": [
    "import pandas as pd\n",
    "import numpy as np\n",
    "import seaborn as sns\n",
    "import matplotlib.pyplot as plt\n",
    "plt.style.use(\"seaborn\")"
   ]
  },
  {
   "cell_type": "code",
   "execution_count": 2,
   "metadata": {},
   "outputs": [],
   "source": [
    "TSLA_Analysis = pd.read_csv(\"TSLA_Analysis.csv\", index_col= \"Date\", parse_dates= [\"Date\"])"
   ]
  },
  {
   "cell_type": "code",
   "execution_count": 3,
   "metadata": {},
   "outputs": [
    {
     "data": {
      "text/html": [
       "<div>\n",
       "<style scoped>\n",
       "    .dataframe tbody tr th:only-of-type {\n",
       "        vertical-align: middle;\n",
       "    }\n",
       "\n",
       "    .dataframe tbody tr th {\n",
       "        vertical-align: top;\n",
       "    }\n",
       "\n",
       "    .dataframe thead th {\n",
       "        text-align: right;\n",
       "    }\n",
       "</style>\n",
       "<table border=\"1\" class=\"dataframe\">\n",
       "  <thead>\n",
       "    <tr style=\"text-align: right;\">\n",
       "      <th></th>\n",
       "      <th>Open</th>\n",
       "      <th>High</th>\n",
       "      <th>Low</th>\n",
       "      <th>Close</th>\n",
       "      <th>Adj Close</th>\n",
       "      <th>Volume</th>\n",
       "    </tr>\n",
       "    <tr>\n",
       "      <th>Date</th>\n",
       "      <th></th>\n",
       "      <th></th>\n",
       "      <th></th>\n",
       "      <th></th>\n",
       "      <th></th>\n",
       "      <th></th>\n",
       "    </tr>\n",
       "  </thead>\n",
       "  <tbody>\n",
       "    <tr>\n",
       "      <th>2015-01-02</th>\n",
       "      <td>44.574001</td>\n",
       "      <td>44.650002</td>\n",
       "      <td>42.652000</td>\n",
       "      <td>43.862000</td>\n",
       "      <td>43.862000</td>\n",
       "      <td>23822000</td>\n",
       "    </tr>\n",
       "    <tr>\n",
       "      <th>2015-01-05</th>\n",
       "      <td>42.910000</td>\n",
       "      <td>43.299999</td>\n",
       "      <td>41.431999</td>\n",
       "      <td>42.018002</td>\n",
       "      <td>42.018002</td>\n",
       "      <td>26842500</td>\n",
       "    </tr>\n",
       "    <tr>\n",
       "      <th>2015-01-06</th>\n",
       "      <td>42.012001</td>\n",
       "      <td>42.840000</td>\n",
       "      <td>40.841999</td>\n",
       "      <td>42.256001</td>\n",
       "      <td>42.256001</td>\n",
       "      <td>31309500</td>\n",
       "    </tr>\n",
       "    <tr>\n",
       "      <th>2015-01-07</th>\n",
       "      <td>42.669998</td>\n",
       "      <td>42.956001</td>\n",
       "      <td>41.956001</td>\n",
       "      <td>42.189999</td>\n",
       "      <td>42.189999</td>\n",
       "      <td>14842000</td>\n",
       "    </tr>\n",
       "    <tr>\n",
       "      <th>2015-01-08</th>\n",
       "      <td>42.562000</td>\n",
       "      <td>42.759998</td>\n",
       "      <td>42.001999</td>\n",
       "      <td>42.124001</td>\n",
       "      <td>42.124001</td>\n",
       "      <td>17212500</td>\n",
       "    </tr>\n",
       "  </tbody>\n",
       "</table>\n",
       "</div>"
      ],
      "text/plain": [
       "                 Open       High        Low      Close  Adj Close    Volume\n",
       "Date                                                                       \n",
       "2015-01-02  44.574001  44.650002  42.652000  43.862000  43.862000  23822000\n",
       "2015-01-05  42.910000  43.299999  41.431999  42.018002  42.018002  26842500\n",
       "2015-01-06  42.012001  42.840000  40.841999  42.256001  42.256001  31309500\n",
       "2015-01-07  42.669998  42.956001  41.956001  42.189999  42.189999  14842000\n",
       "2015-01-08  42.562000  42.759998  42.001999  42.124001  42.124001  17212500"
      ]
     },
     "execution_count": 3,
     "metadata": {},
     "output_type": "execute_result"
    }
   ],
   "source": [
    "TSLA_Analysis.head()"
   ]
  },
  {
   "cell_type": "code",
   "execution_count": 4,
   "metadata": {},
   "outputs": [
    {
     "data": {
      "text/html": [
       "<div>\n",
       "<style scoped>\n",
       "    .dataframe tbody tr th:only-of-type {\n",
       "        vertical-align: middle;\n",
       "    }\n",
       "\n",
       "    .dataframe tbody tr th {\n",
       "        vertical-align: top;\n",
       "    }\n",
       "\n",
       "    .dataframe thead th {\n",
       "        text-align: right;\n",
       "    }\n",
       "</style>\n",
       "<table border=\"1\" class=\"dataframe\">\n",
       "  <thead>\n",
       "    <tr style=\"text-align: right;\">\n",
       "      <th></th>\n",
       "      <th>Open</th>\n",
       "      <th>High</th>\n",
       "      <th>Low</th>\n",
       "      <th>Close</th>\n",
       "      <th>Adj Close</th>\n",
       "      <th>Volume</th>\n",
       "    </tr>\n",
       "    <tr>\n",
       "      <th>Date</th>\n",
       "      <th></th>\n",
       "      <th></th>\n",
       "      <th></th>\n",
       "      <th></th>\n",
       "      <th></th>\n",
       "      <th></th>\n",
       "    </tr>\n",
       "  </thead>\n",
       "  <tbody>\n",
       "    <tr>\n",
       "      <th>2020-08-31</th>\n",
       "      <td>444.609985</td>\n",
       "      <td>500.140015</td>\n",
       "      <td>440.109985</td>\n",
       "      <td>498.320007</td>\n",
       "      <td>498.320007</td>\n",
       "      <td>118374400</td>\n",
       "    </tr>\n",
       "    <tr>\n",
       "      <th>2020-09-01</th>\n",
       "      <td>502.140015</td>\n",
       "      <td>502.489990</td>\n",
       "      <td>470.510010</td>\n",
       "      <td>475.049988</td>\n",
       "      <td>475.049988</td>\n",
       "      <td>90119400</td>\n",
       "    </tr>\n",
       "    <tr>\n",
       "      <th>2020-09-02</th>\n",
       "      <td>478.989990</td>\n",
       "      <td>479.040009</td>\n",
       "      <td>405.119995</td>\n",
       "      <td>447.369995</td>\n",
       "      <td>447.369995</td>\n",
       "      <td>96176100</td>\n",
       "    </tr>\n",
       "    <tr>\n",
       "      <th>2020-09-03</th>\n",
       "      <td>407.230011</td>\n",
       "      <td>431.799988</td>\n",
       "      <td>402.000000</td>\n",
       "      <td>407.000000</td>\n",
       "      <td>407.000000</td>\n",
       "      <td>87596100</td>\n",
       "    </tr>\n",
       "    <tr>\n",
       "      <th>2020-09-04</th>\n",
       "      <td>402.809998</td>\n",
       "      <td>428.000000</td>\n",
       "      <td>372.019989</td>\n",
       "      <td>418.320007</td>\n",
       "      <td>418.320007</td>\n",
       "      <td>110321900</td>\n",
       "    </tr>\n",
       "  </tbody>\n",
       "</table>\n",
       "</div>"
      ],
      "text/plain": [
       "                  Open        High         Low       Close   Adj Close  \\\n",
       "Date                                                                     \n",
       "2020-08-31  444.609985  500.140015  440.109985  498.320007  498.320007   \n",
       "2020-09-01  502.140015  502.489990  470.510010  475.049988  475.049988   \n",
       "2020-09-02  478.989990  479.040009  405.119995  447.369995  447.369995   \n",
       "2020-09-03  407.230011  431.799988  402.000000  407.000000  407.000000   \n",
       "2020-09-04  402.809998  428.000000  372.019989  418.320007  418.320007   \n",
       "\n",
       "               Volume  \n",
       "Date                   \n",
       "2020-08-31  118374400  \n",
       "2020-09-01   90119400  \n",
       "2020-09-02   96176100  \n",
       "2020-09-03   87596100  \n",
       "2020-09-04  110321900  "
      ]
     },
     "execution_count": 4,
     "metadata": {},
     "output_type": "execute_result"
    }
   ],
   "source": [
    "TSLA_Analysis.tail()"
   ]
  },
  {
   "cell_type": "markdown",
   "metadata": {},
   "source": [
    "We will be using the close data to conduct technical analysis"
   ]
  },
  {
   "cell_type": "code",
   "execution_count": 5,
   "metadata": {},
   "outputs": [],
   "source": [
    "TSLA_Analysis = TSLA_Analysis.Close.to_frame()"
   ]
  },
  {
   "cell_type": "markdown",
   "metadata": {},
   "source": [
    "Using the SMA(Simple Moving Average) 50 represents 50 trading days "
   ]
  },
  {
   "cell_type": "code",
   "execution_count": 6,
   "metadata": {},
   "outputs": [],
   "source": [
    "TSLA_Analysis[\"SMA50\"] = TSLA_Analysis.Close.rolling(window = 50).mean()"
   ]
  },
  {
   "cell_type": "code",
   "execution_count": 7,
   "metadata": {},
   "outputs": [
    {
     "data": {
      "text/html": [
       "<div>\n",
       "<style scoped>\n",
       "    .dataframe tbody tr th:only-of-type {\n",
       "        vertical-align: middle;\n",
       "    }\n",
       "\n",
       "    .dataframe tbody tr th {\n",
       "        vertical-align: top;\n",
       "    }\n",
       "\n",
       "    .dataframe thead th {\n",
       "        text-align: right;\n",
       "    }\n",
       "</style>\n",
       "<table border=\"1\" class=\"dataframe\">\n",
       "  <thead>\n",
       "    <tr style=\"text-align: right;\">\n",
       "      <th></th>\n",
       "      <th>Close</th>\n",
       "      <th>SMA50</th>\n",
       "    </tr>\n",
       "    <tr>\n",
       "      <th>Date</th>\n",
       "      <th></th>\n",
       "      <th></th>\n",
       "    </tr>\n",
       "  </thead>\n",
       "  <tbody>\n",
       "    <tr>\n",
       "      <th>2020-08-31</th>\n",
       "      <td>498.320007</td>\n",
       "      <td>307.684797</td>\n",
       "    </tr>\n",
       "    <tr>\n",
       "      <th>2020-09-01</th>\n",
       "      <td>475.049988</td>\n",
       "      <td>313.208517</td>\n",
       "    </tr>\n",
       "    <tr>\n",
       "      <th>2020-09-02</th>\n",
       "      <td>447.369995</td>\n",
       "      <td>318.148797</td>\n",
       "    </tr>\n",
       "    <tr>\n",
       "      <th>2020-09-03</th>\n",
       "      <td>407.000000</td>\n",
       "      <td>322.445397</td>\n",
       "    </tr>\n",
       "    <tr>\n",
       "      <th>2020-09-04</th>\n",
       "      <td>418.320007</td>\n",
       "      <td>326.867877</td>\n",
       "    </tr>\n",
       "  </tbody>\n",
       "</table>\n",
       "</div>"
      ],
      "text/plain": [
       "                 Close       SMA50\n",
       "Date                              \n",
       "2020-08-31  498.320007  307.684797\n",
       "2020-09-01  475.049988  313.208517\n",
       "2020-09-02  447.369995  318.148797\n",
       "2020-09-03  407.000000  322.445397\n",
       "2020-09-04  418.320007  326.867877"
      ]
     },
     "execution_count": 7,
     "metadata": {},
     "output_type": "execute_result"
    }
   ],
   "source": [
    "TSLA_Analysis.tail()"
   ]
  },
  {
   "cell_type": "markdown",
   "metadata": {},
   "source": [
    "Now to include the SMA 200 to represent 200 trading days for comparison to the SMA 50"
   ]
  },
  {
   "cell_type": "code",
   "execution_count": 8,
   "metadata": {},
   "outputs": [],
   "source": [
    "TSLA_Analysis[\"SMA200\"] = TSLA_Analysis.Close.rolling(window = 200).mean()"
   ]
  },
  {
   "cell_type": "code",
   "execution_count": 9,
   "metadata": {},
   "outputs": [
    {
     "data": {
      "text/html": [
       "<div>\n",
       "<style scoped>\n",
       "    .dataframe tbody tr th:only-of-type {\n",
       "        vertical-align: middle;\n",
       "    }\n",
       "\n",
       "    .dataframe tbody tr th {\n",
       "        vertical-align: top;\n",
       "    }\n",
       "\n",
       "    .dataframe thead th {\n",
       "        text-align: right;\n",
       "    }\n",
       "</style>\n",
       "<table border=\"1\" class=\"dataframe\">\n",
       "  <thead>\n",
       "    <tr style=\"text-align: right;\">\n",
       "      <th></th>\n",
       "      <th>Close</th>\n",
       "      <th>SMA50</th>\n",
       "      <th>SMA200</th>\n",
       "    </tr>\n",
       "    <tr>\n",
       "      <th>Date</th>\n",
       "      <th></th>\n",
       "      <th></th>\n",
       "      <th></th>\n",
       "    </tr>\n",
       "  </thead>\n",
       "  <tbody>\n",
       "    <tr>\n",
       "      <th>2020-08-31</th>\n",
       "      <td>498.320007</td>\n",
       "      <td>307.684797</td>\n",
       "      <td>171.314139</td>\n",
       "    </tr>\n",
       "    <tr>\n",
       "      <th>2020-09-01</th>\n",
       "      <td>475.049988</td>\n",
       "      <td>313.208517</td>\n",
       "      <td>173.340039</td>\n",
       "    </tr>\n",
       "    <tr>\n",
       "      <th>2020-09-02</th>\n",
       "      <td>447.369995</td>\n",
       "      <td>318.148797</td>\n",
       "      <td>175.224719</td>\n",
       "    </tr>\n",
       "    <tr>\n",
       "      <th>2020-09-03</th>\n",
       "      <td>407.000000</td>\n",
       "      <td>322.445397</td>\n",
       "      <td>176.909729</td>\n",
       "    </tr>\n",
       "    <tr>\n",
       "      <th>2020-09-04</th>\n",
       "      <td>418.320007</td>\n",
       "      <td>326.867877</td>\n",
       "      <td>178.641809</td>\n",
       "    </tr>\n",
       "  </tbody>\n",
       "</table>\n",
       "</div>"
      ],
      "text/plain": [
       "                 Close       SMA50      SMA200\n",
       "Date                                          \n",
       "2020-08-31  498.320007  307.684797  171.314139\n",
       "2020-09-01  475.049988  313.208517  173.340039\n",
       "2020-09-02  447.369995  318.148797  175.224719\n",
       "2020-09-03  407.000000  322.445397  176.909729\n",
       "2020-09-04  418.320007  326.867877  178.641809"
      ]
     },
     "execution_count": 9,
     "metadata": {},
     "output_type": "execute_result"
    }
   ],
   "source": [
    "TSLA_Analysis.tail()"
   ]
  },
  {
   "cell_type": "markdown",
   "metadata": {},
   "source": [
    "now to visualzie the data within the past 5 years performance of the S&P 500"
   ]
  },
  {
   "cell_type": "code",
   "execution_count": 10,
   "metadata": {},
   "outputs": [
    {
     "data": {
      "image/png": "[encoded data removed]",
      "text/plain": [
       "<Figure size 1080x720 with 1 Axes>"
      ]
     },
     "metadata": {},
     "output_type": "display_data"
    }
   ],
   "source": [
    "TSLA_Analysis.plot(figsize = (15,10), fontsize= 15)\n",
    "plt.legend(fontsize = 15)\n",
    "plt.show()"
   ]
  },
  {
   "cell_type": "markdown",
   "metadata": {},
   "source": [
    "SMA Trading analysis: SMA Trading analysis: When the SMA 50 is above the SMA 200 that is a bullish buy/hold sign. However, when the SMA 200 is above the SMA 50, that’s a bearish/sell sign with regards to trading analysis. However, value investors could use these indicators to open new long term positions. Whenever investors notice the SMA 200 is crossing above the SMA 50, that could be a sign for them to buy more shares of that long term stock, hence \"buying the dip\". Depending on your investment strategy long term or short term, technical analysis indications is useful for both strategies.\n",
    "\n",
    "\n",
    "Finding the Return vs Risk monthly horizon of Tesla "
   ]
  },
  {
   "cell_type": "code",
   "execution_count": 11,
   "metadata": {},
   "outputs": [],
   "source": [
    "TSLA_Analysis_m = TSLA_Analysis.Close.resample(\"M\", kind = \"period\").last().to_frame()"
   ]
  },
  {
   "cell_type": "code",
   "execution_count": 12,
   "metadata": {},
   "outputs": [
    {
     "data": {
      "text/html": [
       "<div>\n",
       "<style scoped>\n",
       "    .dataframe tbody tr th:only-of-type {\n",
       "        vertical-align: middle;\n",
       "    }\n",
       "\n",
       "    .dataframe tbody tr th {\n",
       "        vertical-align: top;\n",
       "    }\n",
       "\n",
       "    .dataframe thead th {\n",
       "        text-align: right;\n",
       "    }\n",
       "</style>\n",
       "<table border=\"1\" class=\"dataframe\">\n",
       "  <thead>\n",
       "    <tr style=\"text-align: right;\">\n",
       "      <th></th>\n",
       "      <th>Close</th>\n",
       "    </tr>\n",
       "    <tr>\n",
       "      <th>Date</th>\n",
       "      <th></th>\n",
       "    </tr>\n",
       "  </thead>\n",
       "  <tbody>\n",
       "    <tr>\n",
       "      <th>2015-01</th>\n",
       "      <td>40.720001</td>\n",
       "    </tr>\n",
       "    <tr>\n",
       "      <th>2015-02</th>\n",
       "      <td>40.667999</td>\n",
       "    </tr>\n",
       "    <tr>\n",
       "      <th>2015-03</th>\n",
       "      <td>37.754002</td>\n",
       "    </tr>\n",
       "    <tr>\n",
       "      <th>2015-04</th>\n",
       "      <td>45.209999</td>\n",
       "    </tr>\n",
       "    <tr>\n",
       "      <th>2015-05</th>\n",
       "      <td>50.160000</td>\n",
       "    </tr>\n",
       "  </tbody>\n",
       "</table>\n",
       "</div>"
      ],
      "text/plain": [
       "             Close\n",
       "Date              \n",
       "2015-01  40.720001\n",
       "2015-02  40.667999\n",
       "2015-03  37.754002\n",
       "2015-04  45.209999\n",
       "2015-05  50.160000"
      ]
     },
     "execution_count": 12,
     "metadata": {},
     "output_type": "execute_result"
    }
   ],
   "source": [
    "TSLA_Analysis_m.head()"
   ]
  },
  {
   "cell_type": "code",
   "execution_count": 13,
   "metadata": {},
   "outputs": [],
   "source": [
    "TSLA_Analysis_m[\"Return\"] = TSLA_Analysis_m.pct_change()"
   ]
  },
  {
   "cell_type": "code",
   "execution_count": 14,
   "metadata": {},
   "outputs": [
    {
     "data": {
      "text/html": [
       "<div>\n",
       "<style scoped>\n",
       "    .dataframe tbody tr th:only-of-type {\n",
       "        vertical-align: middle;\n",
       "    }\n",
       "\n",
       "    .dataframe tbody tr th {\n",
       "        vertical-align: top;\n",
       "    }\n",
       "\n",
       "    .dataframe thead th {\n",
       "        text-align: right;\n",
       "    }\n",
       "</style>\n",
       "<table border=\"1\" class=\"dataframe\">\n",
       "  <thead>\n",
       "    <tr style=\"text-align: right;\">\n",
       "      <th></th>\n",
       "      <th>Close</th>\n",
       "      <th>Return</th>\n",
       "    </tr>\n",
       "    <tr>\n",
       "      <th>Date</th>\n",
       "      <th></th>\n",
       "      <th></th>\n",
       "    </tr>\n",
       "  </thead>\n",
       "  <tbody>\n",
       "    <tr>\n",
       "      <th>2015-01</th>\n",
       "      <td>40.720001</td>\n",
       "      <td>NaN</td>\n",
       "    </tr>\n",
       "    <tr>\n",
       "      <th>2015-02</th>\n",
       "      <td>40.667999</td>\n",
       "      <td>-0.001277</td>\n",
       "    </tr>\n",
       "    <tr>\n",
       "      <th>2015-03</th>\n",
       "      <td>37.754002</td>\n",
       "      <td>-0.071653</td>\n",
       "    </tr>\n",
       "    <tr>\n",
       "      <th>2015-04</th>\n",
       "      <td>45.209999</td>\n",
       "      <td>0.197489</td>\n",
       "    </tr>\n",
       "    <tr>\n",
       "      <th>2015-05</th>\n",
       "      <td>50.160000</td>\n",
       "      <td>0.109489</td>\n",
       "    </tr>\n",
       "  </tbody>\n",
       "</table>\n",
       "</div>"
      ],
      "text/plain": [
       "             Close    Return\n",
       "Date                        \n",
       "2015-01  40.720001       NaN\n",
       "2015-02  40.667999 -0.001277\n",
       "2015-03  37.754002 -0.071653\n",
       "2015-04  45.209999  0.197489\n",
       "2015-05  50.160000  0.109489"
      ]
     },
     "execution_count": 14,
     "metadata": {},
     "output_type": "execute_result"
    }
   ],
   "source": [
    "TSLA_Analysis_m.head()"
   ]
  },
  {
   "cell_type": "markdown",
   "metadata": {},
   "source": [
    "Return and Risk of Telsa within the past 5 years, we will be using 20 to determine how well Tesla performned within a 20 month time frame"
   ]
  },
  {
   "cell_type": "code",
   "execution_count": 16,
   "metadata": {},
   "outputs": [],
   "source": [
    "TSLA_Analysis_m[\"Roll_Return\"] = TSLA_Analysis_m.Return.rolling(20).mean()"
   ]
  },
  {
   "cell_type": "code",
   "execution_count": 17,
   "metadata": {},
   "outputs": [
    {
     "data": {
      "text/html": [
       "<div>\n",
       "<style scoped>\n",
       "    .dataframe tbody tr th:only-of-type {\n",
       "        vertical-align: middle;\n",
       "    }\n",
       "\n",
       "    .dataframe tbody tr th {\n",
       "        vertical-align: top;\n",
       "    }\n",
       "\n",
       "    .dataframe thead th {\n",
       "        text-align: right;\n",
       "    }\n",
       "</style>\n",
       "<table border=\"1\" class=\"dataframe\">\n",
       "  <thead>\n",
       "    <tr style=\"text-align: right;\">\n",
       "      <th></th>\n",
       "      <th>Close</th>\n",
       "      <th>Return</th>\n",
       "      <th>Roll_Return</th>\n",
       "    </tr>\n",
       "    <tr>\n",
       "      <th>Date</th>\n",
       "      <th></th>\n",
       "      <th></th>\n",
       "      <th></th>\n",
       "    </tr>\n",
       "  </thead>\n",
       "  <tbody>\n",
       "    <tr>\n",
       "      <th>2020-05</th>\n",
       "      <td>167.000000</td>\n",
       "      <td>0.067939</td>\n",
       "      <td>0.078474</td>\n",
       "    </tr>\n",
       "    <tr>\n",
       "      <th>2020-06</th>\n",
       "      <td>215.962006</td>\n",
       "      <td>0.293186</td>\n",
       "      <td>0.079433</td>\n",
       "    </tr>\n",
       "    <tr>\n",
       "      <th>2020-07</th>\n",
       "      <td>286.152008</td>\n",
       "      <td>0.325011</td>\n",
       "      <td>0.093733</td>\n",
       "    </tr>\n",
       "    <tr>\n",
       "      <th>2020-08</th>\n",
       "      <td>498.320007</td>\n",
       "      <td>0.741452</td>\n",
       "      <td>0.133327</td>\n",
       "    </tr>\n",
       "    <tr>\n",
       "      <th>2020-09</th>\n",
       "      <td>418.320007</td>\n",
       "      <td>-0.160539</td>\n",
       "      <td>0.129174</td>\n",
       "    </tr>\n",
       "  </tbody>\n",
       "</table>\n",
       "</div>"
      ],
      "text/plain": [
       "              Close    Return  Roll_Return\n",
       "Date                                      \n",
       "2020-05  167.000000  0.067939     0.078474\n",
       "2020-06  215.962006  0.293186     0.079433\n",
       "2020-07  286.152008  0.325011     0.093733\n",
       "2020-08  498.320007  0.741452     0.133327\n",
       "2020-09  418.320007 -0.160539     0.129174"
      ]
     },
     "execution_count": 17,
     "metadata": {},
     "output_type": "execute_result"
    }
   ],
   "source": [
    "TSLA_Analysis_m.tail()"
   ]
  },
  {
   "cell_type": "code",
   "execution_count": 18,
   "metadata": {},
   "outputs": [],
   "source": [
    "TSLA_Analysis_m[\"Roll_Risk\"] = TSLA_Analysis_m.Return.rolling(20).std()"
   ]
  },
  {
   "cell_type": "code",
   "execution_count": 19,
   "metadata": {},
   "outputs": [
    {
     "data": {
      "text/html": [
       "<div>\n",
       "<style scoped>\n",
       "    .dataframe tbody tr th:only-of-type {\n",
       "        vertical-align: middle;\n",
       "    }\n",
       "\n",
       "    .dataframe tbody tr th {\n",
       "        vertical-align: top;\n",
       "    }\n",
       "\n",
       "    .dataframe thead th {\n",
       "        text-align: right;\n",
       "    }\n",
       "</style>\n",
       "<table border=\"1\" class=\"dataframe\">\n",
       "  <thead>\n",
       "    <tr style=\"text-align: right;\">\n",
       "      <th></th>\n",
       "      <th>Close</th>\n",
       "      <th>Return</th>\n",
       "      <th>Roll_Return</th>\n",
       "      <th>Roll_Risk</th>\n",
       "    </tr>\n",
       "    <tr>\n",
       "      <th>Date</th>\n",
       "      <th></th>\n",
       "      <th></th>\n",
       "      <th></th>\n",
       "      <th></th>\n",
       "    </tr>\n",
       "  </thead>\n",
       "  <tbody>\n",
       "    <tr>\n",
       "      <th>2020-05</th>\n",
       "      <td>167.000000</td>\n",
       "      <td>0.067939</td>\n",
       "      <td>0.078474</td>\n",
       "      <td>0.215263</td>\n",
       "    </tr>\n",
       "    <tr>\n",
       "      <th>2020-06</th>\n",
       "      <td>215.962006</td>\n",
       "      <td>0.293186</td>\n",
       "      <td>0.079433</td>\n",
       "      <td>0.216221</td>\n",
       "    </tr>\n",
       "    <tr>\n",
       "      <th>2020-07</th>\n",
       "      <td>286.152008</td>\n",
       "      <td>0.325011</td>\n",
       "      <td>0.093733</td>\n",
       "      <td>0.222765</td>\n",
       "    </tr>\n",
       "    <tr>\n",
       "      <th>2020-08</th>\n",
       "      <td>498.320007</td>\n",
       "      <td>0.741452</td>\n",
       "      <td>0.133327</td>\n",
       "      <td>0.262604</td>\n",
       "    </tr>\n",
       "    <tr>\n",
       "      <th>2020-09</th>\n",
       "      <td>418.320007</td>\n",
       "      <td>-0.160539</td>\n",
       "      <td>0.129174</td>\n",
       "      <td>0.266738</td>\n",
       "    </tr>\n",
       "  </tbody>\n",
       "</table>\n",
       "</div>"
      ],
      "text/plain": [
       "              Close    Return  Roll_Return  Roll_Risk\n",
       "Date                                                 \n",
       "2020-05  167.000000  0.067939     0.078474   0.215263\n",
       "2020-06  215.962006  0.293186     0.079433   0.216221\n",
       "2020-07  286.152008  0.325011     0.093733   0.222765\n",
       "2020-08  498.320007  0.741452     0.133327   0.262604\n",
       "2020-09  418.320007 -0.160539     0.129174   0.266738"
      ]
     },
     "execution_count": 19,
     "metadata": {},
     "output_type": "execute_result"
    }
   ],
   "source": [
    "TSLA_Analysis_m.tail()"
   ]
  },
  {
   "cell_type": "markdown",
   "metadata": {},
   "source": [
    "Annualizing the data"
   ]
  },
  {
   "cell_type": "code",
   "execution_count": 20,
   "metadata": {},
   "outputs": [],
   "source": [
    "TSLA_Analysis_m[\"Roll_Return\"] = TSLA_Analysis_m[\"Roll_Return\"] * 12\n",
    "TSLA_Analysis_m[\"Roll_Risk\"] = TSLA_Analysis_m[\"Roll_Risk\"] * np.sqrt(12)"
   ]
  },
  {
   "cell_type": "code",
   "execution_count": 21,
   "metadata": {},
   "outputs": [
    {
     "data": {
      "text/html": [
       "<div>\n",
       "<style scoped>\n",
       "    .dataframe tbody tr th:only-of-type {\n",
       "        vertical-align: middle;\n",
       "    }\n",
       "\n",
       "    .dataframe tbody tr th {\n",
       "        vertical-align: top;\n",
       "    }\n",
       "\n",
       "    .dataframe thead th {\n",
       "        text-align: right;\n",
       "    }\n",
       "</style>\n",
       "<table border=\"1\" class=\"dataframe\">\n",
       "  <thead>\n",
       "    <tr style=\"text-align: right;\">\n",
       "      <th></th>\n",
       "      <th>Close</th>\n",
       "      <th>Return</th>\n",
       "      <th>Roll_Return</th>\n",
       "      <th>Roll_Risk</th>\n",
       "    </tr>\n",
       "    <tr>\n",
       "      <th>Date</th>\n",
       "      <th></th>\n",
       "      <th></th>\n",
       "      <th></th>\n",
       "      <th></th>\n",
       "    </tr>\n",
       "  </thead>\n",
       "  <tbody>\n",
       "    <tr>\n",
       "      <th>2020-05</th>\n",
       "      <td>167.000000</td>\n",
       "      <td>0.067939</td>\n",
       "      <td>0.941688</td>\n",
       "      <td>0.745694</td>\n",
       "    </tr>\n",
       "    <tr>\n",
       "      <th>2020-06</th>\n",
       "      <td>215.962006</td>\n",
       "      <td>0.293186</td>\n",
       "      <td>0.953192</td>\n",
       "      <td>0.749010</td>\n",
       "    </tr>\n",
       "    <tr>\n",
       "      <th>2020-07</th>\n",
       "      <td>286.152008</td>\n",
       "      <td>0.325011</td>\n",
       "      <td>1.124791</td>\n",
       "      <td>0.771681</td>\n",
       "    </tr>\n",
       "    <tr>\n",
       "      <th>2020-08</th>\n",
       "      <td>498.320007</td>\n",
       "      <td>0.741452</td>\n",
       "      <td>1.599929</td>\n",
       "      <td>0.909688</td>\n",
       "    </tr>\n",
       "    <tr>\n",
       "      <th>2020-09</th>\n",
       "      <td>418.320007</td>\n",
       "      <td>-0.160539</td>\n",
       "      <td>1.550084</td>\n",
       "      <td>0.924009</td>\n",
       "    </tr>\n",
       "  </tbody>\n",
       "</table>\n",
       "</div>"
      ],
      "text/plain": [
       "              Close    Return  Roll_Return  Roll_Risk\n",
       "Date                                                 \n",
       "2020-05  167.000000  0.067939     0.941688   0.745694\n",
       "2020-06  215.962006  0.293186     0.953192   0.749010\n",
       "2020-07  286.152008  0.325011     1.124791   0.771681\n",
       "2020-08  498.320007  0.741452     1.599929   0.909688\n",
       "2020-09  418.320007 -0.160539     1.550084   0.924009"
      ]
     },
     "execution_count": 21,
     "metadata": {},
     "output_type": "execute_result"
    }
   ],
   "source": [
    "TSLA_Analysis_m.tail()"
   ]
  },
  {
   "cell_type": "code",
   "execution_count": 23,
   "metadata": {},
   "outputs": [
    {
     "data": {
      "image/png": "[encoded data removed]",
      "text/plain": [
       "<Figure size 1080x720 with 1 Axes>"
      ]
     },
     "metadata": {},
     "output_type": "display_data"
    }
   ],
   "source": [
    "TSLA_Analysis_m.iloc[:,-2:].plot(figsize = (15,10), fontsize= 15)\n",
    "plt.legend(fontsize = 15)\n",
    "plt.show()"
   ]
  },
  {
   "cell_type": "markdown",
   "metadata": {},
   "source": [
    "Analysis of the Return vs Risk time frame: During large declines in returns we can notice the risk rises while when return rises, risk tends to decrease. within a 20 month time frame Tesla has a much greater return then risk"
   ]
  }
 ],
 "metadata": {
  "kernelspec": {
   "display_name": "Python 3",
   "language": "python",
   "name": "python3"
  },
  "language_info": {
   "codemirror_mode": {
    "name": "ipython",
    "version": 3
   },
   "file_extension": ".py",
   "mimetype": "text/x-python",
   "name": "python",
   "nbconvert_exporter": "python",
   "pygments_lexer": "ipython3",
   "version": "3.7.6"
  }
 },
 "nbformat": 4,
 "nbformat_minor": 4
}
